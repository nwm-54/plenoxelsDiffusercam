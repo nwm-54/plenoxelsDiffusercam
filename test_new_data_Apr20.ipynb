{
 "cells": [
  {
   "cell_type": "markdown",
   "metadata": {},
   "source": [
    "## feeding the trained grid with new test data to generate \"fake data\""
   ]
  },
  {
   "cell_type": "code",
   "execution_count": 1,
   "metadata": {},
   "outputs": [
    {
     "ename": "ModuleNotFoundError",
     "evalue": "No module named 'plenoxel'",
     "output_type": "error",
     "traceback": [
      "\u001b[0;31m---------------------------------------------------------------------------\u001b[0m",
      "\u001b[0;31mModuleNotFoundError\u001b[0m                       Traceback (most recent call last)",
      "Input \u001b[0;32mIn [1]\u001b[0m, in \u001b[0;36m<cell line: 13>\u001b[0;34m()\u001b[0m\n\u001b[1;32m     11\u001b[0m \u001b[38;5;28;01mimport\u001b[39;00m \u001b[38;5;21;01mjax\u001b[39;00m\n\u001b[1;32m     12\u001b[0m \u001b[38;5;28;01mimport\u001b[39;00m \u001b[38;5;21;01mjax\u001b[39;00m\u001b[38;5;21;01m.\u001b[39;00m\u001b[38;5;21;01mnumpy\u001b[39;00m \u001b[38;5;28;01mas\u001b[39;00m \u001b[38;5;21;01mjnp\u001b[39;00m\n\u001b[0;32m---> 13\u001b[0m \u001b[38;5;28;01mimport\u001b[39;00m \u001b[38;5;21;01mplenoxel\u001b[39;00m\n\u001b[1;32m     14\u001b[0m \u001b[38;5;28;01mfrom\u001b[39;00m \u001b[38;5;21;01mjax\u001b[39;00m\u001b[38;5;21;01m.\u001b[39;00m\u001b[38;5;21;01mlib\u001b[39;00m \u001b[38;5;28;01mimport\u001b[39;00m xla_bridge\n\u001b[1;32m     15\u001b[0m \u001b[38;5;28;01mimport\u001b[39;00m \u001b[38;5;21;01mjson\u001b[39;00m\n",
      "\u001b[0;31mModuleNotFoundError\u001b[0m: No module named 'plenoxel'"
     ]
    }
   ],
   "source": [
    "import os\n",
    "import json\n",
    "from argparse import ArgumentParser\n",
    "from re import split\n",
    "import numpy as np\n",
    "from tqdm import tqdm\n",
    "import imageio\n",
    "from PIL import Image\n",
    "np.random.seed(0)\n",
    "\n",
    "import jax\n",
    "import jax.numpy as jnp\n",
    "import plenoxel\n",
    "from jax.lib import xla_bridge\n",
    "import json\n",
    "import random\n",
    "import copy\n",
    "import numpy as np\n",
    "import math\n",
    "import matplotlib.pyplot as plt\n",
    "\n",
    "import os\n",
    "os.environ[\"CUDA_VISIBLE_DEVICES\"]=\"2\"\n"
   ]
  },
  {
   "cell_type": "markdown",
   "metadata": {},
   "source": [
    "Pick a random test view then projected on a 2D grid"
   ]
  },
  {
   "cell_type": "code",
   "execution_count": null,
   "metadata": {},
   "outputs": [],
   "source": [
    "# json file to changed coordinate aka the new training coordinate\n",
    "file = open('/home/vitran/plenoxels/blender_data/lego/transforms_test.json')\n",
    "data = json.load(file)\n",
    "data_gen = copy.deepcopy(data)\n",
    "frames = []\n",
    "\n",
    "#taking 10th position\n",
    "view_sample = data['frames'][10]\n",
    "\n",
    "#making 2d grid\n",
    "grid2d = np.zeros((10,10))\n",
    "x_linspace = np.linspace(start = -0.5, stop = 0.5, num = 10)\n",
    "\n",
    "for i in x_linspace:\n",
    "    for j in x_linspace:\n",
    "        sample = copy.deepcopy(view_sample)\n",
    "        sample['transform_matrix'][0][-1] += i\n",
    "        sample['transform_matrix'][1][-1] += j\n",
    "        print(i,j, sample['transform_matrix'][0][-1],sample['transform_matrix'][1][-1] )\n",
    "        frames.append(sample)\n",
    "\n",
    "data_gen['frames'] = frames#json.dumps(frames)\n",
    "        \n",
    "file.close()\n",
    "\n",
    "with open('/home/vitran/plenoxels/blender_data/lego/transforms_test_gen3.json','w') as f:\n",
    "    json.dump(data_gen, f)"
   ]
  },
  {
   "cell_type": "markdown",
   "metadata": {},
   "source": [
    "### Feed the projected coordinates to the trained model to get the images for each view"
   ]
  },
  {
   "cell_type": "markdown",
   "metadata": {},
   "source": [
    "Helper functions copy from plenoptimize"
   ]
  },
  {
   "cell_type": "code",
   "execution_count": null,
   "metadata": {},
   "outputs": [],
   "source": [
    "def get_data(root, stage):\n",
    "    all_c2w = []\n",
    "    all_gt = []\n",
    "\n",
    "    data_path = os.path.join(root, stage)\n",
    "    data_json = os.path.join(root, 'transforms_' + stage + '.json')\n",
    "    print('LOAD DATA', data_path)\n",
    "    j = json.load(open(data_json, 'r'))\n",
    "\n",
    "    for frame in tqdm(j['frames']):\n",
    "        fpath = os.path.join(data_path, os.path.basename(frame['file_path']) + '.png')\n",
    "        c2w = frame['transform_matrix']\n",
    "#         im_gt = imageio.imread(fpath).astype(np.float32) / 255.0\n",
    "#         im_gt = im_gt[..., :3] * im_gt[..., 3:] + (1.0 - im_gt[..., 3:])\n",
    "        all_c2w.append(c2w)\n",
    "#         all_gt.append(im_gt)\n",
    "    img0 = imageio.imread('/home/vitran/plenoxels/blender_data/lego/test/r_0.png')\n",
    "    all_gt.append(img0)\n",
    "    focal = 0.5 * all_gt[0].shape[1] / np.tan(0.5 * j['camera_angle_x'])\n",
    "#     all_gt = np.asarray(all_gt)\n",
    "    all_c2w = np.asarray(all_c2w)\n",
    "    return focal, all_c2w, all_gt\n",
    "\n",
    "\n",
    "\n",
    "def get_loss(data_dict, c2w, gt, H, W, focal, resolution, radius, harmonic_degree, jitter, uniform, key, sh_dim, occupancy_penalty, interpolation, nv):\n",
    "    rays = plenoxel.get_rays(H, W, focal, c2w)\n",
    "    rgb, disp, acc, weights, voxel_ids = plenoxel.render_rays(data_dict, rays, resolution, key, radius, harmonic_degree, jitter, uniform, interpolation, nv)\n",
    "    mse = jnp.mean((rgb - lowpass(gt, resolution))**2)\n",
    "    indices, data = data_dict\n",
    "    loss = mse + occupancy_penalty * jnp.mean(jax.nn.relu(data[-1]))\n",
    "    return loss\n",
    "\n",
    "\n",
    "def get_loss_rays(data_dict, rays, gt, resolution, radius, harmonic_degree, jitter, uniform, key, sh_dim, occupancy_penalty, interpolation, nv):\n",
    "    rgb, disp, acc, weights, voxel_ids = plenoxel.render_rays(data_dict, rays, resolution, key, radius, harmonic_degree, jitter, uniform, interpolation, nv)\n",
    "    mse = jnp.mean((rgb - gt)**2)\n",
    "    indices, data = data_dict\n",
    "    loss = mse + occupancy_penalty * jnp.mean(jax.nn.relu(data[-1]))\n",
    "    return loss\n",
    "\n",
    "\n",
    "def get_rays_np(H, W, focal, c2w):\n",
    "    i, j = np.meshgrid(np.arange(W, dtype=np.float32) + 0.5, np.arange(H, dtype=np.float32) + 0.5, indexing='xy')\n",
    "    dirs = np.stack([(i-W*.5)/focal, -(j-H*.5)/focal, -np.ones_like(i)], -1)\n",
    "    # Rotate ray directions from camera frame to the world frame\n",
    "    rays_d = np.sum(dirs[..., np.newaxis, :] * c2w[:3,:3], -1)  # dot product, equals to: [c2w.dot(dir) for dir in dirs]\n",
    "    # Translate camera frame's origin to the world frame. It is the origin of all rays.\n",
    "    rays_o = np.broadcast_to(c2w[:3,-1], np.shape(rays_d))\n",
    "    return rays_o, rays_d\n",
    "\n",
    "\n",
    "def render_pose_rays(data_dict, c2w, H, W, focal, resolution, radius, harmonic_degree, jitter, uniform, key, sh_dim, batch_size, interpolation, nv):\n",
    "    rays_o, rays_d = get_rays_np(H, W, focal, c2w)\n",
    "    rays_o = np.reshape(rays_o, [-1,3])\n",
    "    rays_d = np.reshape(rays_d, [-1,3])\n",
    "    rgbs = []\n",
    "    disps = []\n",
    "    for i in range(int(np.ceil(H*W/batch_size))):\n",
    "        start = i*batch_size\n",
    "        stop = min(H*W, (i+1)*batch_size)\n",
    "        if jitter > 0:\n",
    "            rgbi, dispi, acci, weightsi, voxel_idsi = jax.lax.stop_gradient(plenoxel.render_rays(data_dict, (rays_o[start:stop], rays_d[start:stop]), resolution, key[start:stop], radius, harmonic_degree, jitter, uniform, interpolation, nv))\n",
    "        else:\n",
    "            rgbi, dispi, acci, weightsi, voxel_idsi = jax.lax.stop_gradient(plenoxel.render_rays(data_dict, (rays_o[start:stop], rays_d[start:stop]), resolution, None, radius, harmonic_degree, jitter, uniform, interpolation, nv))\n",
    "        rgbs.append(rgbi)\n",
    "        disps.append(dispi)\n",
    "    rgb = jnp.reshape(jnp.concatenate(rgbs, axis=0), (H, W, 3))\n",
    "    disp = jnp.reshape(jnp.concatenate(disps, axis=0), (H, W))\n",
    "    return rgb, disp, None, None\n"
   ]
  },
  {
   "cell_type": "markdown",
   "metadata": {},
   "source": [
    "Set parameters and load in the trained plenoxel model"
   ]
  },
  {
   "cell_type": "code",
   "execution_count": null,
   "metadata": {},
   "outputs": [],
   "source": [
    "# PARAMETERS\n",
    "resolution = 256\n",
    "lr_rgb = 150 * (resolution ** 1.75)\n",
    "lr_sigma = 51.5 * (resolution ** 2.37)\n",
    "harmonic_degree = 2\n",
    "jiter = 0.0\n",
    "automatic_lr = True\n",
    "uniform = 0.5\n",
    "physical_batch_size = 1000\n",
    "interpolation = 'trilinear'\n",
    "nv = True\n",
    "radius = 1.3\n",
    "render_interval = 40\n",
    "jitter = 0.0\n",
    "\n",
    "# Load the trained model\n",
    "focal, train_c2w, train_gt = get_data('/home/vitran/plenoxels/blender_data/lego/', \"train\")\n",
    "test_focal, test_c2w, _ = get_data('/home/vitran/plenoxels/blender_data/lego/', \"test_gen3\")\n",
    "assert focal == test_focal\n",
    "H, W = train_gt[0].shape[:2]\n",
    "#     n_train_imgs = len(train_c2w)\n",
    "n_test_imgs = len(test_c2w)\n",
    "\n",
    "reload_dir = '/home/vitran/plenoxels/jax_logs/experiment/epoch_0/' #os.path.join(log_dir, f'epoch_{FLAGS.reload_epoch}')\n",
    "print(f'Reloading the grid from {reload_dir}')\n",
    "data_dict = plenoxel.load_grid(dirname=reload_dir, sh_dim = (harmonic_degree + 1)**2)"
   ]
  },
  {
   "cell_type": "markdown",
   "metadata": {},
   "source": [
    "Feed coordinates to the model to output image of the view"
   ]
  },
  {
   "cell_type": "code",
   "execution_count": null,
   "metadata": {},
   "outputs": [],
   "source": [
    "def run_test_step(i, data_dict, test_c2w, test_gt, H, W, focal, FLAGS, key, name_appendage=''):\n",
    "    print('Evaluating')\n",
    "    sh_dim = (harmonic_degree + 1)**2\n",
    "    tpsnr = 0.0\n",
    "    for j, (c2w, _) in tqdm(enumerate(zip(test_c2w, test_gt))):\n",
    "        print(c2w[1].shape)\n",
    "        print(c2w)\n",
    "        rgb, disp, _, _ = render_pose_rays(data_dict, c2w, H, W, focal, resolution, radius, harmonic_degree, jitter, uniform, key, sh_dim, physical_batch_size, interpolation, nv)\n",
    "#         mse = jnp.mean((rgb - gt)**2)\n",
    "#         psnr = -10.0 * np.log(mse) / np.log(10.0)\n",
    "#         tpsnr += psnr\n",
    "\n",
    "#         if render_interval > 0 and j % render_interval == 0:\n",
    "#             disp3 = jnp.concatenate((disp[...,jnp.newaxis], disp[...,jnp.newaxis], disp[...,jnp.newaxis]), axis=2)\n",
    "#             vis = jnp.concatenate((gt, rgb, disp3), axis=1)\n",
    "        print(j)\n",
    "        vis = np.asarray((rgb * 255)).astype(np.uint8)\n",
    "        imageio.imwrite(f\"/home/vitran/plenoxels/jax_logs/lego_generate3/{j:04}_{i:04}{name_appendage}.png\", vis)\n",
    "#         del rgb, disp\n",
    "#     tpsnr /= n_test_imgs\n",
    "#     return tpsnr\n",
    "keys = jax.vmap(jax.random.PRNGKey, in_axes=0, out_axes=0)(jnp.arange(physical_batch_size))\n",
    "test_gt = np.ones_like(test_c2w)\n",
    "run_test_step(0, data_dict, test_c2w, test_gt, H, W, focal, None, None)\n"
   ]
  },
  {
   "cell_type": "markdown",
   "metadata": {},
   "source": [
    "Model output"
   ]
  },
  {
   "cell_type": "code",
   "execution_count": null,
   "metadata": {},
   "outputs": [],
   "source": [
    "key = jax.vmap(jax.random.PRNGKey, in_axes=0, out_axes=0)(jnp.arange(physical_batch_size))\n",
    "sh_dim = (harmonic_degree + 1)**2\n",
    "c2w = test_c2w[0]\n",
    "rgb, disp, _, _ = render_pose_rays(data_dict, c2w, H, W, focal, resolution, radius, harmonic_degree, jitter, uniform, key, sh_dim, physical_batch_size, interpolation, nv)\n",
    "plt.imshow(rgb)"
   ]
  },
  {
   "cell_type": "markdown",
   "metadata": {},
   "source": [
    "## Reformating the fake training json file"
   ]
  },
  {
   "cell_type": "code",
   "execution_count": null,
   "metadata": {},
   "outputs": [],
   "source": [
    "# change images name\n",
    "import os\n",
    "basedir = \"/home/vitran/plenoxels/blender_data/lego_gen3/train/\"\n",
    "for file in os.listdir(basedir):\n",
    "    if file[-3:]=='png':\n",
    "        cnt = int(file[2:4])\n",
    "        newname = \"r_\"+str(cnt)\n",
    "        os.rename(basedir+file, basedir+f\"r_{str(cnt)}.png\")"
   ]
  },
  {
   "cell_type": "markdown",
   "metadata": {},
   "source": [
    "Assigning image view with the corresponding coordinate"
   ]
  },
  {
   "cell_type": "code",
   "execution_count": null,
   "metadata": {},
   "outputs": [],
   "source": [
    "file = open('/home/vitran/plenoxels/blender_data/lego_gen3/transforms_test.json')\n",
    "data = json.load(file)\n",
    "cnt = 0\n",
    "for img in data['frames']:\n",
    "    img['file_path'] = './train/r_'+str(cnt)\n",
    "    cnt+=1\n",
    "    a = img['file_path']\n",
    "    print(a)\n",
    "\n",
    "# data_gen['frames'] = frames#json.dumps(frames)\n",
    "        \n",
    "file.close()\n",
    "\n",
    "# with open('/home/vitran/plenoxels/blender_data/lego_gen3/transforms_train.json','w') as f:\n",
    "#     json.dump(data, f)"
   ]
  },
  {
   "cell_type": "markdown",
   "metadata": {},
   "source": [
    "Debugging missing alpha channel from the input data"
   ]
  },
  {
   "cell_type": "code",
   "execution_count": null,
   "metadata": {},
   "outputs": [],
   "source": [
    "data_path = '/home/vitran/plenoxels/blender_data/lego_gen3/'\n",
    "data_json = '/home/vitran/plenoxels/blender_data/lego_gen3/transforms_train.json'\n",
    "\n",
    "# data_path = '/home/vitran/plenoxels/blender_data/lego/'\n",
    "# data_json = '/home/vitran/plenoxels/blender_data/lego/transforms_train.json'\n",
    "\n",
    "j = json.load(open(data_json, 'r'))\n",
    "for frame in j['frames']:\n",
    "    fpath = os.path.join(data_path+'train/', os.path.basename(frame['file_path']) + '.png')\n",
    "    im_gt = imageio.imread(fpath).astype(np.float32) / 255.0\n",
    "    plt.imshow(im_gt[:,:,0])\n",
    "    plt.show()\n",
    "#     print('shape here', im_gt.shape)"
   ]
  }
 ],
 "metadata": {
  "kernelspec": {
   "display_name": "Python 3 (ipykernel)",
   "language": "python",
   "name": "python3"
  },
  "language_info": {
   "codemirror_mode": {
    "name": "ipython",
    "version": 3
   },
   "file_extension": ".py",
   "mimetype": "text/x-python",
   "name": "python",
   "nbconvert_exporter": "python",
   "pygments_lexer": "ipython3",
   "version": "3.9.12"
  }
 },
 "nbformat": 4,
 "nbformat_minor": 4
}
