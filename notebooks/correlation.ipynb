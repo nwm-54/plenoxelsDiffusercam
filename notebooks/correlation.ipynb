{
 "cells": [
  {
   "cell_type": "code",
   "execution_count": null,
   "metadata": {},
   "outputs": [],
   "source": [
    "from PIL import Image\n",
    "import matplotlib.pyplot as plt\n",
    "import numpy as np\n",
    "\n",
    "img1 = Image.open(\"/home/vitran/gs5/pinhole_data/input/IMG_0013.JPG\")\n",
    "img2 = Image.open(\"/home/vitran/gs5/pinhole_data/input/IMG_0016.JPG\")\n",
    "\n",
    "img1 = np.asarray(img1)\n",
    "img2 = np.asarray(img2)\n",
    "\n",
    "img = img1 + img2\n",
    "plt.imshow(img)"
   ]
  },
  {
   "cell_type": "code",
   "execution_count": null,
   "metadata": {},
   "outputs": [],
   "source": [
    "from PIL import Image\n",
    "import numpy as np\n",
    "from scipy.signal import correlate\n",
    "\n",
    "\n",
    "def load_image(image_path):\n",
    "    with Image.open(image_path) as img:\n",
    "        return np.array(img.convert(\"L\"))  # Convert image to grayscale\n",
    "\n",
    "\n",
    "def compute_shift(image1, image2):\n",
    "    # Compute the cross-correlation between the two images\n",
    "    correlation = correlate(image1, image2, mode=\"full\")\n",
    "    # return correlation\n",
    "\n",
    "    # Find the index of the maximum value in the cross-correlation\n",
    "    max_idx = np.unravel_index(np.argmax(correlation), correlation.shape)\n",
    "\n",
    "    # Compute the shift\n",
    "    shift = np.array(max_idx) - np.array(image2.shape) + np.array(image1.shape) - 1\n",
    "\n",
    "    return shift\n",
    "\n",
    "\n",
    "# Load your images\n",
    "image1 = load_image(\"/home/vitran/gs5/pinhole_data/input/IMG_0013.JPG\")\n",
    "image2 = load_image(\"/home/vitran/gs5/pinhole_data/input/IMG_0016.JPG\")\n",
    "\n",
    "# Compute the shift\n",
    "shift = compute_shift(image1, image2)\n",
    "print(f\"Shift required: {shift}\")"
   ]
  },
  {
   "cell_type": "code",
   "execution_count": null,
   "metadata": {},
   "outputs": [],
   "source": [
    "from PIL import Image\n",
    "import numpy as np\n",
    "from scipy.fft import fft2, ifft2, fftshift\n",
    "from scipy.ndimage import shift as ndi_shift\n",
    "\n",
    "\n",
    "def load_image(image_path):\n",
    "    scale_factor = 1 / 32\n",
    "    with Image.open(image_path) as img:\n",
    "        width, height = img.size\n",
    "        new_width = int(width * scale_factor)\n",
    "        new_height = int(height * scale_factor)\n",
    "\n",
    "        # Resize image\n",
    "        resized_img = img.resize((new_width, new_height))\n",
    "        # print(resized_img.size)\n",
    "        return np.array(resized_img.convert(\"L\"))  # Convert image to grayscale\n",
    "\n",
    "\n",
    "def save_image(image_array, output_path):\n",
    "    img = Image.fromarray(image_array)\n",
    "    img.save(output_path)\n",
    "\n",
    "\n",
    "def compute_shift(image1, image2):\n",
    "    # Compute the cross-correlation between the two images\n",
    "    # print(image1.size)\n",
    "    correlation = correlate(image1, image2, mode=\"same\")\n",
    "    print(\"corre \", correlation.shape)\n",
    "    # return correlation\n",
    "\n",
    "    # Find the index of the maximum value in the cross-correlation\n",
    "    max_idx = np.unravel_index(np.argmax(correlation), correlation.shape)\n",
    "    print(\"maxid \", max_idx)\n",
    "    # Compute the shift\n",
    "    shift = np.array(max_idx) - np.array(image2.shape) + np.array(image1.shape) - 1\n",
    "    print(\"shift \", shift)\n",
    "    return shift\n",
    "\n",
    "\n",
    "def compute_shift_fft(image1, image2):\n",
    "    # Compute the FFT of both images\n",
    "    f1 = fft2(image1)\n",
    "    f2 = fft2(image2)\n",
    "\n",
    "    # Compute the cross-correlation in the frequency domain\n",
    "    cross_correlation = ifft2(f1 * np.conj(f2))\n",
    "\n",
    "    # Shift the zero frequency component to the center\n",
    "    cross_correlation = fftshift(cross_correlation)\n",
    "\n",
    "    # Find the index of the maximum value in the cross-correlation\n",
    "    max_idx = np.unravel_index(\n",
    "        np.argmax(np.abs(cross_correlation)), cross_correlation.shape\n",
    "    )\n",
    "\n",
    "    # Compute the shift\n",
    "    shift = np.array(max_idx) - np.array(image1.shape)\n",
    "\n",
    "    return shift\n",
    "\n",
    "\n",
    "def apply_shift(image, shift):\n",
    "    # Apply the shift using nearest mode to handle borders\n",
    "    shifted_image = ndi_shift(image, shift, mode=\"nearest\")\n",
    "    return shifted_image\n",
    "\n",
    "\n",
    "# Load your images\n",
    "image1 = load_image(\"/home/vitran/gs5/pinhole_data/input/IMG_0013.JPG\")\n",
    "image2 = load_image(\"/home/vitran/gs5/pinhole_data/input/IMG_0016.JPG\")\n",
    "\n",
    "corr = None\n",
    "# Compute the shift\n",
    "# shift = compute_shift_fft(image1, image2)\n",
    "shift = compute_shift(image1, image2)\n",
    "print(f\"Shift required: {shift}\")\n",
    "\n",
    "\n",
    "# Apply the shift to image1\n",
    "shifted_image1 = apply_shift(image1, shift)\n",
    "plt.imshow(shifted_image1)\n",
    "# # save_image(shifted_image1, 'shifted_image2.jpg')"
   ]
  },
  {
   "cell_type": "code",
   "execution_count": null,
   "metadata": {},
   "outputs": [],
   "source": [
    "plt.imshow(image1 + image2)"
   ]
  },
  {
   "cell_type": "code",
   "execution_count": null,
   "metadata": {},
   "outputs": [],
   "source": [
    "image1.shape"
   ]
  },
  {
   "cell_type": "code",
   "execution_count": null,
   "metadata": {},
   "outputs": [],
   "source": [
    "plt.imshow(image2[70:, 25:80])\n",
    "# image2.shape"
   ]
  },
  {
   "cell_type": "code",
   "execution_count": null,
   "metadata": {},
   "outputs": [],
   "source": [
    "corr = correlate2d(image1, image2[70:, 25:80], mode=\"same\")\n",
    "plt.imshow(corr)"
   ]
  },
  {
   "cell_type": "code",
   "execution_count": null,
   "metadata": {},
   "outputs": [],
   "source": [
    "from scipy import ndimage\n",
    "\n",
    "image2_cropped = image2[70:, 25:80]\n",
    "corr1 = ndimage.correlate(image1, image2_cropped, mode=\"constant\", cval=1e-9)\n",
    "\n",
    "avg_filter1 = np.ones(image1.shape)\n",
    "result_avg1 = ndimage.correlate(image1, avg_filter1, mode=\"constant\", cval=1e-9)\n",
    "raw_matches1 = corr1 / (result_avg1 + 1e-2)\n",
    "\n",
    "plt.imshow(raw_matches1)\n",
    "plt.colorbar()"
   ]
  },
  {
   "cell_type": "code",
   "execution_count": null,
   "metadata": {},
   "outputs": [],
   "source": [
    "a = np.roll(image1, raw_matches1)\n",
    "plt.imshow(a)"
   ]
  },
  {
   "cell_type": "code",
   "execution_count": null,
   "metadata": {},
   "outputs": [],
   "source": [
    "max_idx = np.unravel_index(np.argmax(np.abs(raw_matches1)), raw_matches1.shape)\n",
    "print(max_idx)"
   ]
  },
  {
   "cell_type": "code",
   "execution_count": null,
   "metadata": {},
   "outputs": [],
   "source": [
    "import matplotlib.pyplot as plt\n",
    "\n",
    "s_img2 = ndi_shift(image1, (-1, 60), mode=\"nearest\")\n",
    "# s_img0 = ndi_shift(image2, (0,0), mode='nearest')\n",
    "\n",
    "plt.imshow(s_img2)"
   ]
  },
  {
   "cell_type": "code",
   "execution_count": null,
   "metadata": {},
   "outputs": [],
   "source": []
  }
 ],
 "metadata": {
  "kernelspec": {
   "display_name": "ipyV8",
   "language": "python",
   "name": "ipyv8"
  },
  "language_info": {
   "codemirror_mode": {
    "name": "ipython",
    "version": 3
   },
   "file_extension": ".py",
   "mimetype": "text/x-python",
   "name": "python",
   "nbconvert_exporter": "python",
   "pygments_lexer": "ipython3",
   "version": "3.9.16"
  }
 },
 "nbformat": 4,
 "nbformat_minor": 2
}
